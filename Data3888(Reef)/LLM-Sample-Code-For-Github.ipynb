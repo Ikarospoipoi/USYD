{
 "cells": [
  {
   "cell_type": "code",
   "execution_count": null,
   "id": "def24749",
   "metadata": {},
   "outputs": [],
   "source": [
    "# key information\n",
    "# a lot of this is neccessary boiler plate code from the referenced source on next line\n",
    "# LlamaIndex has been used as a central interface: https://gpt-index.readthedocs.io/en/latest/\n",
    "\n",
    "\n",
    "# additionally, a key piece of code with the API key has been removed for financial protection\n",
    "# if replaced the code will work\n",
    "\n",
    "# os.environ['OPENAI_API_KEY'] = enter API key here"
   ]
  },
  {
   "cell_type": "code",
   "execution_count": null,
   "id": "d4c817e1",
   "metadata": {},
   "outputs": [],
   "source": [
    "#importing neccessary functionality\n",
    "\n",
    "from llama_index import GPTVectorStoreIndex, SimpleDirectoryReader\n",
    "\n",
    "import os"
   ]
  },
  {
   "cell_type": "code",
   "execution_count": null,
   "id": "ffabf8ec",
   "metadata": {},
   "outputs": [],
   "source": [
    "#reading in neccessary data from data folder. ensure it is in txt format and in correct repo\n",
    "\n",
    "documents = SimpleDirectoryReader('data').load_data()\n",
    "\n",
    "index = GPTVectorStoreIndex.from_documents(documents)\n",
    "query_engine = index.as_query_engine()"
   ]
  },
  {
   "cell_type": "code",
   "execution_count": null,
   "id": "05c9fdc9",
   "metadata": {},
   "outputs": [],
   "source": [
    "#the actual interface to interact with \n",
    "\n",
    "not_done = True\n",
    "\n",
    "if (not_done):\n",
    "    print(\"I am ReefGPT.\\nAn LLM designed to help you process the state of the art indonesian/coral reef bleachin/fishing reports.\")\n",
    "    name = input(\"What's your name? \")\n",
    "    not_done = False\n",
    "\n",
    "\n",
    "print(\"\\nBot: Hi, what questions might you have!\")\n",
    "while True:\n",
    "    user_input = input(f\"{name}: \")\n",
    "    if user_input.lower() in [\"done\", \"thanks\", \"finished\"]:\n",
    "        print(\"\\Bot: Thanks for everything and goodbye!\")\n",
    "        break\n",
    "    response = query_engine.query(user_input)\n",
    "    print(f\"\\Bot: {response}\")"
   ]
  }
 ],
 "metadata": {
  "kernelspec": {
   "display_name": "Python 3",
   "language": "python",
   "name": "python3"
  },
  "language_info": {
   "codemirror_mode": {
    "name": "ipython",
    "version": 3
   },
   "file_extension": ".py",
   "mimetype": "text/x-python",
   "name": "python",
   "nbconvert_exporter": "python",
   "pygments_lexer": "ipython3",
   "version": "3.9.5"
  }
 },
 "nbformat": 4,
 "nbformat_minor": 5
}
